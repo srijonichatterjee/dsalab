{
 "cells": [
  {
   "cell_type": "code",
   "execution_count": 1,
   "id": "00255d3a-3fc0-4593-ab94-adb0acf02d4e",
   "metadata": {},
   "outputs": [],
   "source": [
    "import pandas as pd\n",
    "import numpy as np\n",
    "import matplotlib.pyplot as plt"
   ]
  },
  {
   "cell_type": "code",
   "execution_count": 3,
   "id": "fb01725a-861d-4b45-ae91-e21b63380b5f",
   "metadata": {},
   "outputs": [],
   "source": [
    "# Gradient Descent Implementation with Cost Function Tracking\n",
    "def gradient_descent_with_cost(x, y, lr, iterations, tolerance=1e-6):\n",
    "    m = len(y)\n",
    "    theta0, theta1 = 0, 0  # Initialize parameters\n",
    "    cost_history = []\n",
    "    prev_cost = float('inf')\n",
    "\n",
    "    for i in range(iterations):\n",
    "        # Predicted values\n",
    "        y_pred = theta0 + theta1 * x\n",
    "        \n",
    "        # Cost function\n",
    "        cost = (1 / m) * np.sum((y - y_pred) ** 2)\n",
    "        cost_history.append(cost)\n",
    "\n",
    "        # Convergence check\n",
    "        if abs(prev_cost - cost) < tolerance:\n",
    "            break\n",
    "        prev_cost = cost\n",
    "\n",
    "        # Calculate gradients\n",
    "        d_theta0 = -(2 / m) * np.sum(y - y_pred)\n",
    "        d_theta1 = -(2 / m) * np.sum((y - y_pred) * x)\n",
    "        \n",
    "        # Update parameters\n",
    "        theta0 -= lr * d_theta0\n",
    "        theta1 -= lr * d_theta1\n",
    "    \n",
    "    return theta0, theta1, cost_history, i + 1"
   ]
  },
  {
   "cell_type": "code",
   "execution_count": 5,
   "id": "6376ad19-c73a-4121-bed5-4c8715883d44",
   "metadata": {},
   "outputs": [],
   "source": [
    "# Normalize the data (to improve stability of gradient descent)\n",
    "def normalize_data(x):\n",
    "    mean, std = x.mean(), x.std()\n",
    "    return (x - mean) / std, mean, std"
   ]
  },
  {
   "cell_type": "code",
   "execution_count": 7,
   "id": "aa681af8-6a83-4d01-ba33-4b7a560ec493",
   "metadata": {},
   "outputs": [],
   "source": [
    "# Denormalize parameters to original scale\n",
    "def denormalize_parameters(theta0, theta1, x_mean, x_std, y_mean, y_std):\n",
    "    theta1_original = theta1 * (y_std / x_std)\n",
    "    theta0_original = y_mean - theta1_original * x_mean\n",
    "    return theta0_original, theta1_original"
   ]
  },
  {
   "cell_type": "code",
   "execution_count": 9,
   "id": "c4131bd1-28ef-4a10-abac-34d30f9366e2",
   "metadata": {},
   "outputs": [],
   "source": [
    "# Load the data\n",
    "x = np.loadtxt(\"linearX.csv\", delimiter=\",\")\n",
    "y = np.loadtxt(\"linearY.csv\", delimiter=\",\")"
   ]
  },
  {
   "cell_type": "code",
   "execution_count": 11,
   "id": "da567680-c984-4ce1-8b29-23dc871902c7",
   "metadata": {},
   "outputs": [],
   "source": [
    "# Normalize the data\n",
    "x_normalized, x_mean, x_std = normalize_data(x)\n",
    "y_normalized, y_mean, y_std = normalize_data(y)"
   ]
  },
  {
   "cell_type": "code",
   "execution_count": 13,
   "id": "cdd90cdf-debd-4010-83b9-5111e9e6887e",
   "metadata": {},
   "outputs": [
    {
     "name": "stdout",
     "output_type": "stream",
     "text": [
      "Final Parameters: theta0 = 0.9903497091968224, theta1 = 0.0007777711241847861\n",
      "Final Cost: 0.5708905973249967 after 3 iterations.\n"
     ]
    }
   ],
   "source": [
    "theta0_q1, theta1_q1, cost_history_q1, iterations_q1 = gradient_descent_with_cost(\n",
    "    x_normalized, y_normalized, lr=0.5, iterations=10000\n",
    ")\n",
    "theta0_q1_original, theta1_q1_original = denormalize_parameters(\n",
    "    theta0_q1, theta1_q1, x_mean, x_std, y_mean, y_std\n",
    ")\n",
    "\n",
    "print(f\"Final Parameters: theta0 = {theta0_q1_original}, theta1 = {theta1_q1_original}\")\n",
    "print(f\"Final Cost: {cost_history_q1[-1]} after {iterations_q1} iterations.\")"
   ]
  },
  {
   "cell_type": "code",
   "execution_count": null,
   "id": "796d6bbe-251c-46ad-a869-ce75bf3d00ea",
   "metadata": {},
   "outputs": [],
   "source": []
  }
 ],
 "metadata": {
  "kernelspec": {
   "display_name": "Python [conda env:base] *",
   "language": "python",
   "name": "conda-base-py"
  },
  "language_info": {
   "codemirror_mode": {
    "name": "ipython",
    "version": 3
   },
   "file_extension": ".py",
   "mimetype": "text/x-python",
   "name": "python",
   "nbconvert_exporter": "python",
   "pygments_lexer": "ipython3",
   "version": "3.12.7"
  }
 },
 "nbformat": 4,
 "nbformat_minor": 5
}
