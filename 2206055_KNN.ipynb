{
 "cells": [
  {
   "cell_type": "markdown",
   "id": "cf2319b4-ad62-4ca0-9ae5-86df61a2db60",
   "metadata": {},
   "source": [
    "# K-Means CLustering From Scratch"
   ]
  },
  {
   "cell_type": "markdown",
   "id": "83ac2ecc-e4e9-44ca-bcd0-7b5663c9d65f",
   "metadata": {},
   "source": [
    "##### Importing all the required Libraries"
   ]
  },
  {
   "cell_type": "code",
   "execution_count": 8,
   "id": "158de121-4e58-4e1a-a52a-a67ca236e06d",
   "metadata": {},
   "outputs": [],
   "source": [
    "import numpy as np\n",
    "import pandas as pd\n",
    "import matplotlib.pyplot as plt"
   ]
  },
  {
   "cell_type": "markdown",
   "id": "93ddc3d0-03dd-4903-b786-a62de025ab2b",
   "metadata": {},
   "source": [
    "##### Creating a class for K-Means"
   ]
  },
  {
   "cell_type": "code",
   "execution_count": 55,
   "id": "36823f7c-524c-4c3f-bb45-c42f5f5df2c8",
   "metadata": {},
   "outputs": [],
   "source": [
    "class KMeans:\n",
    "    def __init__(self, k=2, max_iter=300, tol=1e-4, random_state=None):\n",
    "        \"\"\"\n",
    "        Initialize the KMeans clustering model.\n",
    "        \n",
    "        Parameters:\n",
    "            k (int): Number of clusters.\n",
    "            max_iter (int): Maximum number of iterations.\n",
    "            tol (float): Tolerance for convergence (minimum change in centroids).\n",
    "            random_state (int, optional): Seed for random number generator.\n",
    "        \"\"\"\n",
    "        self.k = k\n",
    "        self.max_iter = max_iter\n",
    "        self.tol = tol\n",
    "        self.random_state = random_state\n",
    "        if self.random_state is not None:\n",
    "            np.random.seed(self.random_state)\n",
    "        self.centroids = None\n",
    "        self.clusters = None\n",
    "\n",
    "    def _initialize_centroids(self, data):\n",
    "        \"\"\"\n",
    "        Randomly selects k unique data points as initial centroids.\n",
    "        \n",
    "        Parameters:\n",
    "            data (numpy.ndarray): Array of data points.\n",
    "        \"\"\"\n",
    "        indices = np.random.choice(data.shape[0], self.k, replace=False)\n",
    "        self.centroids = data[indices]\n",
    "\n",
    "    def _assign_clusters(self, data):\n",
    "        \"\"\"\n",
    "        Assigns each data point to the nearest centroid.\n",
    "        \n",
    "        Parameters:\n",
    "            data (numpy.ndarray): Array of data points.\n",
    "        \"\"\"\n",
    "        # Compute Euclidean distances between each point and each centroid\n",
    "        distances = np.linalg.norm(data[:, np.newaxis] - self.centroids, axis=2)\n",
    "        self.clusters = np.argmin(distances, axis=1)\n",
    "\n",
    "    def _update_centroids(self, data):\n",
    "        \"\"\"\n",
    "        Updates centroids as the mean of all data points assigned to each cluster.\n",
    "        \n",
    "        Parameters:\n",
    "            data (numpy.ndarray): Array of data points.\n",
    "        \n",
    "        Returns:\n",
    "            new_centroids (numpy.ndarray): Array of updated centroids.\n",
    "        \"\"\"\n",
    "        new_centroids = np.zeros_like(self.centroids)\n",
    "        for i in range(self.k):\n",
    "            if np.any(self.clusters == i):\n",
    "                new_centroids[i] = data[self.clusters == i].mean(axis=0)\n",
    "            else:\n",
    "                # In case a cluster gets no points, reinitialize its centroid randomly.\n",
    "                new_centroids[i] = data[np.random.choice(data.shape[0])]\n",
    "        return new_centroids\n",
    "\n",
    "    def fit(self, data):\n",
    "        \"\"\"\n",
    "        Runs the K-means clustering algorithm.\n",
    "        \n",
    "        Parameters:\n",
    "            data (numpy.ndarray): Array of data points.\n",
    "        \n",
    "        Returns:\n",
    "            self\n",
    "        \"\"\"\n",
    "        self._initialize_centroids(data)\n",
    "        for i in range(self.max_iter):\n",
    "            self._assign_clusters(data)\n",
    "            new_centroids = self._update_centroids(data)\n",
    "            # Check for convergence: if centroids do not change more than the tolerance.\n",
    "            if np.all(np.abs(new_centroids - self.centroids) < self.tol):\n",
    "                print(f\"Converged after {i+1} iterations for k={self.k}\")\n",
    "                self.centroids = new_centroids\n",
    "                break\n",
    "            self.centroids = new_centroids\n",
    "        else:\n",
    "            print(\"Reached maximum iterations without full convergence.\")\n",
    "        return self\n",
    "\n",
    "    def predict(self, data):\n",
    "        \"\"\"\n",
    "        Assigns data points to the nearest cluster based on the fitted centroids.\n",
    "        \n",
    "        Parameters:\n",
    "            data (numpy.ndarray): Array of data points.\n",
    "        \n",
    "        Returns:\n",
    "            clusters (numpy.ndarray): Array of cluster indices for each data point.\n",
    "        \"\"\"\n",
    "        distances = np.linalg.norm(data[:, np.newaxis] - self.centroids, axis=2)\n",
    "        return np.argmin(distances, axis=1)\n",
    "\n",
    "    def plot_clusters(self, data):\n",
    "        \"\"\"\n",
    "        Plots the clustered data points along with centroids.\n",
    "        \n",
    "        Parameters:\n",
    "            data (numpy.ndarray): Array of data points.\n",
    "        \"\"\"\n",
    "        colors = ['red', 'blue', 'green', 'cyan', 'magenta', 'yellow', 'black']\n",
    "        plt.figure(figsize=(6, 6))\n",
    "        for i in range(self.k):\n",
    "            cluster_points = data[self.clusters == i]\n",
    "            plt.scatter(cluster_points[:, 0], cluster_points[:, 1],\n",
    "                        color=colors[i % len(colors)], label=f'Cluster {i+1}')\n",
    "        # Plot centroids with a distinct marker\n",
    "        plt.scatter(self.centroids[:, 0], self.centroids[:, 1],\n",
    "                    s=300, c='black', marker='X', label='Centroids')\n",
    "        plt.title(f'K-Means Clustering (k = {self.k})')\n",
    "        plt.xlabel('Feature 1')\n",
    "        plt.ylabel('Feature 2')\n",
    "        plt.legend()\n",
    "        plt.grid(True)\n",
    "        plt.show()"
   ]
  },
  {
   "cell_type": "markdown",
   "id": "967b2d78-aa7f-4f89-b6ad-c3374dd54673",
   "metadata": {},
   "source": [
    "##### Function to Normalize Data"
   ]
  },
  {
   "cell_type": "code",
   "execution_count": 58,
   "id": "940bae98-151a-4864-95c7-48a6ed08ed01",
   "metadata": {},
   "outputs": [],
   "source": [
    "def normalize_features(df):\n",
    "    return (df - df.mean()) / df.std()"
   ]
  },
  {
   "cell_type": "markdown",
   "id": "6ad0b640-94a7-4704-ae3b-f44bb8872238",
   "metadata": {},
   "source": [
    "##### Load the dataset"
   ]
  },
  {
   "cell_type": "code",
   "execution_count": 61,
   "id": "863bd58b-1eac-4cae-9653-e865566a320f",
   "metadata": {},
   "outputs": [],
   "source": [
    "try:\n",
    "    df = pd.read_csv('kmeans.csv')\n",
    "except FileNotFoundError:\n",
    "    print(\"File not found error.\")"
   ]
  },
  {
   "cell_type": "markdown",
   "id": "6851744b-38b9-45e1-a9c9-1f1cd6ef6b77",
   "metadata": {},
   "source": [
    "##### Normalize the data"
   ]
  },
  {
   "cell_type": "code",
   "execution_count": 64,
   "id": "e84706a6-3e64-4679-a6f1-107d2574fb84",
   "metadata": {},
   "outputs": [],
   "source": [
    "normalized_df = normalize_features(df)\n",
    "data = normalized_df.values"
   ]
  },
  {
   "cell_type": "markdown",
   "id": "77202b14-37e6-4b1b-8530-9fee366ba509",
   "metadata": {},
   "source": [
    "##### Running K-means for k=2 and k=3"
   ]
  },
  {
   "cell_type": "code",
   "execution_count": 67,
   "id": "4c6982dc-754c-439f-ac90-ef6d482d1c7d",
   "metadata": {},
   "outputs": [
    {
     "name": "stdout",
     "output_type": "stream",
     "text": [
      "\n",
      "Running K-means clustering for k = 2\n",
      "Converged after 7 iterations for k=2\n"
     ]
    },
    {
     "data": {
      "image/png": "[encoded data removed]",
      "text/plain": [
       "<Figure size 600x600 with 1 Axes>"
      ]
     },
     "metadata": {},
     "output_type": "display_data"
    }
   ],
   "source": [
    "for k in [2]:\n",
    "    print(f\"\\nRunning K-means clustering for k = {k}\")\n",
    "    kmeans_model = KMeans(k=k, max_iter=300, tol=1e-4, random_state=42)\n",
    "    kmeans_model.fit(data)\n",
    "    kmeans_model.plot_clusters(data)"
   ]
  },
  {
   "cell_type": "code",
   "execution_count": null,
   "id": "ac178178-d252-4a24-998e-87aa7004aa7d",
   "metadata": {},
   "outputs": [],
   "source": []
  },
  {
   "cell_type": "code",
   "execution_count": null,
   "id": "0aa9a3a7-4f11-4e75-8c99-82086032895a",
   "metadata": {},
   "outputs": [],
   "source": []
  }
 ],
 "metadata": {
  "kernelspec": {
   "display_name": "Python [conda env:base] *",
   "language": "python",
   "name": "conda-base-py"
  },
  "language_info": {
   "codemirror_mode": {
    "name": "ipython",
    "version": 3
   },
   "file_extension": ".py",
   "mimetype": "text/x-python",
   "name": "python",
   "nbconvert_exporter": "python",
   "pygments_lexer": "ipython3",
   "version": "3.12.7"
  }
 },
 "nbformat": 4,
 "nbformat_minor": 5
}
